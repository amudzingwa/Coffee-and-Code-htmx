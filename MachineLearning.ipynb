{
  "nbformat": 4,
  "nbformat_minor": 0,
  "metadata": {
    "colab": {
      "provenance": [],
      "authorship_tag": "ABX9TyPTP1RLkUXMiz/c9mK7vEiW",
      "include_colab_link": true
    },
    "kernelspec": {
      "name": "python3",
      "display_name": "Python 3"
    },
    "language_info": {
      "name": "python"
    }
  },
  "cells": [
    {
      "cell_type": "markdown",
      "metadata": {
        "id": "view-in-github",
        "colab_type": "text"
      },
      "source": [
        "<a href=\"https://colab.research.google.com/github/amudzingwa/Coffee-and-Code-htmx/blob/main/MachineLearning.ipynb\" target=\"_parent\"><img src=\"https://colab.research.google.com/assets/colab-badge.svg\" alt=\"Open In Colab\"/></a>"
      ]
    },
    {
      "cell_type": "code",
      "execution_count": 9,
      "metadata": {
        "colab": {
          "base_uri": "https://localhost:8080/"
        },
        "id": "fNEefE08EhYn",
        "outputId": "621f004e-63ab-4730-a30f-7882d9b6557e"
      },
      "outputs": [
        {
          "output_type": "stream",
          "name": "stdout",
          "text": [
            "[170, 1]\n",
            "0\n"
          ]
        }
      ],
      "source": [
        "from sklearn import tree #---> tree = classifier\n",
        "import numpy as np\n",
        "\n",
        "#Feature extraction\n",
        "\n",
        "features = [\n",
        "    [150, 1], [170, 1], [140, 0], [130, 0] #1 - bumpy   0 - smooth\n",
        "\n",
        "\n",
        "]\n",
        "\n",
        "labels = [0, 0, 1, 1] # 0 -- orange. 1 -- apple\n",
        "\n",
        "print(features[1])\n",
        "print(labels[1])"
      ]
    },
    {
      "cell_type": "code",
      "source": [
        "#Classifier\n",
        "  # decision tree classifier\n",
        "\n",
        "clf = tree.DecisionTreeClassifier()\n",
        "\n",
        "#Training / Fitting\n",
        "\n",
        "clf = clf.fit(features, labels)"
      ],
      "metadata": {
        "id": "o1KPVknUGTjg"
      },
      "execution_count": 10,
      "outputs": []
    },
    {
      "cell_type": "code",
      "source": [
        "print(clf.predict([[160, 0], [120, 1], [1600, 1]]))"
      ],
      "metadata": {
        "colab": {
          "base_uri": "https://localhost:8080/"
        },
        "id": "nCsDYSCpHQm0",
        "outputId": "1018e373-ff47-45f0-bebe-caa3eafe26c8"
      },
      "execution_count": 11,
      "outputs": [
        {
          "output_type": "stream",
          "name": "stdout",
          "text": [
            "[1 0 0]\n"
          ]
        }
      ]
    },
    {
      "cell_type": "code",
      "source": [
        "#Testing/Prediction\n",
        "\n",
        "labels = np.array([\"Apples\", \"Oranges\"])\n",
        "prediction = labels[clf.predict([[160, 0], [120, 1], [1600, 1]])]\n",
        "print(prediction)"
      ],
      "metadata": {
        "colab": {
          "base_uri": "https://localhost:8080/"
        },
        "id": "NYqxjc-7SkHL",
        "outputId": "47e63526-4111-413f-abbf-4c9ca55ba9f1"
      },
      "execution_count": 13,
      "outputs": [
        {
          "output_type": "stream",
          "name": "stdout",
          "text": [
            "['Oranges' 'Apples' 'Apples']\n"
          ]
        }
      ]
    }
  ]
}